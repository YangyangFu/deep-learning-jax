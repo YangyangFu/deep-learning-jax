{
 "cells": [
  {
   "attachments": {},
   "cell_type": "markdown",
   "metadata": {},
   "source": [
    "# CNN\n",
    "- Brief Recap\n",
    "- Applications\n"
   ]
  },
  {
   "attachments": {},
   "cell_type": "markdown",
   "metadata": {},
   "source": [
    "## Convolutional Layer\n",
    "\n",
    "filter: \n",
    "\n",
    "- 3 x 3 x channels, for color images channels = 3, for grayscale images channels = 1\n",
    "- The values in the filter are not known, and are learned during training. \n",
    "\n",
    "Stride:\n",
    "- 1, 2, 3, etc. how many pixels to move the filter each time\n",
    "\n",
    "Padding: add zeros around the image\n",
    "- \n",
    "\n",
    "Pooling: subsample the pixels will not change the object in the image\n",
    "- no weights to learn\n",
    "- max pooling: take the max value in the filter\n",
    "- average pooling: take the average value in the filter\n",
    "\n",
    "\n",
    "Typical CNN architecture:\n",
    "\n",
    "image -> convolutional layer -> pooling layer -> convolutional layer -> pooling layer -> flatten() -> fully connected layer -> output\n",
    "\n",
    "## Applications\n",
    "\n",
    "**Alpha Go**\n",
    "\n",
    "CNN design:\n",
    "- input:\n",
    "  - the image size is 19 x 19\n",
    "  - channels = 48: humand designed channels to capture the features of the game\n",
    "- output: 19 x 19 -> where the next move should be\n",
    "\n",
    "Pooling is not used in Alpha Go, because pooling is like to remove columns and rows from the image, which is not good for board games. \n",
    "\n",
    "**Speech**\n",
    "Need consider the characteristics of speech when designning the CNN architecture.\n",
    "\n",
    "Reference:\n",
    "- https://dl.acm.org/doi/10.1109/TASLP.2014.2339736\n",
    "\n",
    "**Natural Language Processing**\n",
    "\n",
    "Reference:\n",
    "- https://www.aclweb.org/anthology/S15-2079.pdf\n",
    "\n",
    "## Some criticism of CNN\n",
    "- CNN is not invariant to scale and rotation -> we need data augmentation\n",
    "- Spatial Transformer Layer can be used to solve this problem as well"
   ]
  },
  {
   "attachments": {},
   "cell_type": "markdown",
   "metadata": {},
   "source": []
  },
  {
   "cell_type": "code",
   "execution_count": null,
   "metadata": {
    "vscode": {
     "languageId": "plaintext"
    }
   },
   "outputs": [],
   "source": []
  }
 ],
 "metadata": {
  "language_info": {
   "name": "python"
  },
  "orig_nbformat": 4
 },
 "nbformat": 4,
 "nbformat_minor": 2
}
